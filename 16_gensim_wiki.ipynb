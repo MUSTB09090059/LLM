{
  "nbformat": 4,
  "nbformat_minor": 0,
  "metadata": {
    "colab": {
      "provenance": [],
      "private_outputs": true,
      "machine_shape": "hm"
    },
    "kernelspec": {
      "name": "python3",
      "display_name": "Python 3"
    },
    "accelerator": "GPU"
  },
  "cells": [
    {
      "cell_type": "markdown",
      "metadata": {
        "id": "Ssk5BSNbelCF"
      },
      "source": [
        "# Word2Vec實作\n",
        "- 字詞所代表的意義非常多元，在不同狀況下，會代表不同意思。要把多元意思用單一向量表示，則必須要進行word embedding的動作，也就是把高維向量降為低維向量的過程\n",
        "- 之前介紹過，利用分散式表示法來表達字詞向量，例如PMI、SVD..統計法..等\n",
        "- 2013年神經網路盛行後，Tomas Mikolov利用神經網路訓練方式，來獲得字詞的表達向量，獲得很棒的成果。一般認為是利用神經網路模擬人類的理解能力，獲得不錯的分布空間所得到的成果。\n",
        "- 本範例以維基百科wiki部分資料作範例\n",
        "- 資料來源：https://dumps.wikimedia.org/zhwiki/20231201/zhwiki-20231201-pages-articles-multistream1.xml-p1p187712.bz2\n",
        "- 利用結巴分詞(jieba)進行斷詞，gensim套件進行word2vec計算\n",
        "- 本範例約需1小時長時間執行\n"
      ]
    },
    {
      "cell_type": "code",
      "source": [
        "!wget https://dumps.wikimedia.org/zhwiki/20231201/zhwiki-20231201-pages-articles-multistream1.xml-p1p187712.bz2"
      ],
      "metadata": {
        "id": "ylVzFulsmgzB"
      },
      "execution_count": null,
      "outputs": []
    },
    {
      "cell_type": "markdown",
      "source": [
        "### opencc是繁簡轉換工具"
      ],
      "metadata": {
        "id": "eMIti7ru3701"
      }
    },
    {
      "cell_type": "code",
      "metadata": {
        "id": "0Ta_qze2iHJi"
      },
      "source": [
        "!pip install opencc-python-reimplemented"
      ],
      "execution_count": null,
      "outputs": []
    },
    {
      "cell_type": "markdown",
      "source": [
        "### gensim是訓練word2vec的函式庫"
      ],
      "metadata": {
        "id": "SQCWrmFJ4Mps"
      }
    },
    {
      "cell_type": "code",
      "metadata": {
        "id": "1BIoy7K5eqIS"
      },
      "source": [
        "from gensim.corpora import WikiCorpus\n",
        "\n",
        "wiki_corpus = WikiCorpus('zhwiki-20231201-pages-articles-multistream1.xml-p1p187712.bz2', dictionary={})"
      ],
      "execution_count": null,
      "outputs": []
    },
    {
      "cell_type": "code",
      "metadata": {
        "id": "0T7ZZpDr3Sg8"
      },
      "source": [
        "wiki_corpus"
      ],
      "execution_count": null,
      "outputs": []
    },
    {
      "cell_type": "code",
      "metadata": {
        "id": "KqX5g3Idsp-V"
      },
      "source": [
        "next(iter(wiki_corpus.get_texts()))[:10]"
      ],
      "execution_count": null,
      "outputs": []
    },
    {
      "cell_type": "markdown",
      "source": [
        "## 把wiki的資料檔案，轉換成連續文字的txt檔案"
      ],
      "metadata": {
        "id": "AjOTHZGR5nCE"
      }
    },
    {
      "cell_type": "code",
      "metadata": {
        "id": "AL99YGiSfhGu"
      },
      "source": [
        "text_num = 0\n",
        "\n",
        "with open('wiki_text.txt', 'w', encoding='utf-8') as f:#打開一個名為 'wiki_text.txt' 的文本文件\n",
        "    for text in wiki_corpus.get_texts():#迭代 wiki_corpus 中的文本數據\n",
        "        f.write(' '.join(text)+'\\n')# 將每個文本數據轉換為以空格分隔的字詞（使用 join 方法），然後將其寫入文件。每個文本之間以換行符 \\n 分隔\n",
        "        text_num += 1#計數處理的文本數目。\n",
        "        if text_num % 10000 == 0:#每處理 10000 篇文本，輸出一條消息，顯示已處理的文章數\n",
        "            print('{} articles processed.'.format(text_num))#在程序結束時，打印總處理的文章數\n",
        "\n",
        "    print('{} articles processed.'.format(text_num))"
      ],
      "execution_count": null,
      "outputs": []
    },
    {
      "cell_type": "code",
      "metadata": {
        "id": "FQ01OEi6szXr"
      },
      "source": [
        "import jieba\n",
        "from opencc import OpenCC# 創建一個 OpenCC（開放中文轉換）的實例\n",
        "\n",
        "\n",
        "# Initial\n",
        "cc = OpenCC('s2t')\n",
        "train_data = open('wiki_text.txt', 'r', encoding='utf-8').read()# 打開 'wiki_text.txt' 文件，讀取其中的文本數據\n",
        "train_data = cc.convert(train_data)# 將讀取的文本數據進行簡體到繁體的轉換\n",
        "train_data = jieba.lcut(train_data)#使用 jieba 分詞工具對文本進行分詞，得到一個詞彙列表\n",
        "train_data = [word for word in train_data if word != '']#過濾掉空的詞彙\n",
        "train_data = ' '.join(train_data)#將詞彙列表組合成一個以空格分隔的字串\n",
        "open('seg.txt', 'w', encoding='utf-8').write(train_data)#打開 'seg.txt' 文件，將處理後的文本寫入文件"
      ],
      "execution_count": null,
      "outputs": []
    },
    {
      "cell_type": "code",
      "metadata": {
        "id": "FXxRBbays3k0"
      },
      "source": [
        "from gensim.models import word2vec\n",
        "\n",
        "\n",
        "# Settings\n",
        "seed = 666\n",
        "sg = 0\n",
        "window_size = 10\n",
        "#vector_size = 100\n",
        "min_count = 1\n",
        "workers = 8\n",
        "#epochs = 5\n",
        "batch_words = 10000\n",
        "\n",
        "train_data = word2vec.LineSentence('seg.txt')#讀取 'seg.txt' 文件中的分詞文本數據。LineSentence 是 gensim 提供的一個類別，用於從文本文件中讀取每行作為一個文檔。\n",
        "model = word2vec.Word2Vec(#創建 Word2Vec 模型。其中的參數包括\n",
        "    train_data,\n",
        "    min_count=min_count,#詞彙表中的詞的最小出現次數，出現次數少於此值的詞將被忽略\n",
        "    #size=vector_size,\n",
        "    workers=workers,#訓練模型時使用的並行工作數\n",
        "    #iter=epochs,\n",
        "    window=window_size,#考慮每個目標詞的上下文詞的最大距離。\n",
        "    sg=sg,\n",
        "    seed=seed,#隨機數生成的種子，確保每次訓練的結果一致\n",
        "    batch_words=batch_words# 每個工作進程處理的單詞數目\n",
        ")\n",
        "\n",
        "model.save('word2vec.model')"
      ],
      "execution_count": null,
      "outputs": []
    },
    {
      "cell_type": "code",
      "metadata": {
        "id": "1PovTacQs-R_"
      },
      "source": [
        "from gensim.models import word2vec#載入之前訓練好的 Word2Vec 模型，該模型儲存在 'word2vec.model' 文件中\n",
        "\n",
        "string = '電腦'\n",
        "model = word2vec.Word2Vec.load('word2vec.model')\n",
        "print(string)\n",
        "\n",
        "for item in model.wv.most_similar(string):\n",
        "    print(item)"
      ],
      "execution_count": null,
      "outputs": []
    },
    {
      "cell_type": "code",
      "metadata": {
        "id": "E235am9EVIuG"
      },
      "source": [],
      "execution_count": null,
      "outputs": []
    }
  ]
}